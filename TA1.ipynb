{
 "cells": [
  {
   "cell_type": "code",
   "execution_count": 62,
   "id": "a68d3a7a-94e4-4b4c-968d-5aff99ddc479",
   "metadata": {
    "tags": []
   },
   "outputs": [],
   "source": [
    "import cv2 as cv\n",
    "from matplotlib import pyplot as plt\n",
    "import numpy as np\n",
    "from ipywidgets import interactive"
   ]
  },
  {
   "attachments": {},
   "cell_type": "markdown",
   "id": "c189f013",
   "metadata": {},
   "source": [
    "<h1>Threshold</h1>\n",
    "<text>Pode ser usado para criar máscaras, de forma a facilitar extrair as informações mais relevanres de imagens.</text>"
   ]
  },
  {
   "cell_type": "code",
   "execution_count": 63,
   "metadata": {},
   "outputs": [
    {
     "data": {
      "application/vnd.jupyter.widget-view+json": {
       "model_id": "c56185c74d974b5680d03c1675af0e0c",
       "version_major": 2,
       "version_minor": 0
      },
      "text/plain": [
       "interactive(children=(IntSlider(value=127, description='thres', max=255), Output()), _dom_classes=('widget-int…"
      ]
     },
     "execution_count": 63,
     "metadata": {},
     "output_type": "execute_result"
    }
   ],
   "source": [
    "def my_threshold(thres):\n",
    "\n",
    "    img = cv.imread('images/yodaDJ.jpg', cv.IMREAD_GRAYSCALE)\n",
    "    ret, thres1 = cv.threshold(img, thres, 255, cv.THRESH_BINARY_INV)\n",
    "    fig, axes = plt.subplots(1, 2, figsize=(12,16))\n",
    "    axes[0].imshow(img, 'gray')\n",
    "    axes[0].set_xticks([])\n",
    "    axes[0].set_yticks([])\n",
    "    axes[1].imshow(thres1, 'gray')\n",
    "    axes[1].set_xticks([])\n",
    "    axes[1].set_yticks([])\n",
    "\n",
    "    plt.show()\n",
    "\n",
    "interactive(my_threshold, thres=(0, 255))"
   ]
  },
  {
   "attachments": {},
   "cell_type": "markdown",
   "id": "ad1ddc34",
   "metadata": {},
   "source": [
    "<h1>Filtros</h1>\n",
    "<text>Podem ser usados para remover ruído das imagens, deixando-as mais suaves. </text>"
   ]
  },
  {
   "cell_type": "code",
   "execution_count": 64,
   "id": "f3974986",
   "metadata": {},
   "outputs": [
    {
     "data": {
      "application/vnd.jupyter.widget-view+json": {
       "model_id": "0cf4f3130e56416aad14de42bab97b7e",
       "version_major": 2,
       "version_minor": 0
      },
      "text/plain": [
       "interactive(children=(IntSlider(value=5, description='size', max=10, min=1), Output()), _dom_classes=('widget-…"
      ]
     },
     "execution_count": 64,
     "metadata": {},
     "output_type": "execute_result"
    }
   ],
   "source": [
    "\n",
    "def my_filter2d(size):\n",
    "    kernel = np.ones((size,size), np.uint32)/(size*size)\n",
    "\n",
    "    img = cv.imread('images/yodaDJ.jpg')\n",
    "    img = cv.cvtColor(img, cv.COLOR_BGR2RGB)\n",
    "    dst = cv.filter2D(img, -1, kernel)\n",
    "\n",
    "    fig, axes = plt.subplots(1, 2, figsize=(12,16))\n",
    "    axes[0].imshow(img)\n",
    "    axes[0].set_xticks([])\n",
    "    axes[0].set_yticks([])\n",
    "    axes[1].imshow(dst)\n",
    "    axes[1].set_xticks([])\n",
    "    axes[1].set_yticks([])\n",
    "\n",
    "    plt.show()\n",
    "\n",
    "interactive(my_filter2d, size=(1, 10))"
   ]
  },
  {
   "attachments": {},
   "cell_type": "markdown",
   "id": "2b5f2910",
   "metadata": {},
   "source": [
    "<h1>Detecção de curvas</h1>\n",
    "<text>Serve para ajudar a limitar objetos em imagens, ajudando a criar máscaras para separar as informações importantes da imagem</text>"
   ]
  }
 ],
 "metadata": {
  "kernelspec": {
   "display_name": "Python 3 (ipykernel)",
   "language": "python",
   "name": "python3"
  },
  "language_info": {
   "codemirror_mode": {
    "name": "ipython",
    "version": 3
   },
   "file_extension": ".py",
   "mimetype": "text/x-python",
   "name": "python",
   "nbconvert_exporter": "python",
   "pygments_lexer": "ipython3",
   "version": "3.9.1"
  }
 },
 "nbformat": 4,
 "nbformat_minor": 5
}
